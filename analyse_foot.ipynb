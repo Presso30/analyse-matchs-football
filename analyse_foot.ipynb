{
 "cells": [
  {
   "cell_type": "markdown",
   "id": "341502fb-aec5-44cc-9a9d-bbb961c83d4b",
   "metadata": {},
   "source": [
    "# ⚽ Analyse de matchs de football\n",
    "\n",
    "## 📌 Objectif\n",
    "Ce projet a pour but d'explorer un jeu de données représentant quelques matchs de football. L'objectif est de :\n",
    "- Comprendre la répartition des buts\n",
    "- Analyser les comportements des équipes\n",
    "- Identifier les matchs les plus intéressants"
   ]
  },
  {
   "cell_type": "code",
   "execution_count": 1,
   "id": "db0d775c-3be3-4d21-965b-7e0a605d8192",
   "metadata": {},
   "outputs": [],
   "source": [
    "# importation cles \n",
    "import pandas as pd\n",
    "import matplotlib.pyplot as plt\n"
   ]
  },
  {
   "cell_type": "code",
   "execution_count": 7,
   "id": "b6372ef6-9cb1-499f-979f-4044a6b04d07",
   "metadata": {},
   "outputs": [
    {
     "data": {
      "text/html": [
       "<div>\n",
       "<style scoped>\n",
       "    .dataframe tbody tr th:only-of-type {\n",
       "        vertical-align: middle;\n",
       "    }\n",
       "\n",
       "    .dataframe tbody tr th {\n",
       "        vertical-align: top;\n",
       "    }\n",
       "\n",
       "    .dataframe thead th {\n",
       "        text-align: right;\n",
       "    }\n",
       "</style>\n",
       "<table border=\"1\" class=\"dataframe\">\n",
       "  <thead>\n",
       "    <tr style=\"text-align: right;\">\n",
       "      <th></th>\n",
       "      <th>Date</th>\n",
       "      <th>Équipe Domicile</th>\n",
       "      <th>Équipe Extérieure</th>\n",
       "      <th>Buts Domicile</th>\n",
       "      <th>Buts Extérieure</th>\n",
       "      <th>Cartons Jaunes</th>\n",
       "      <th>Possession (%)</th>\n",
       "    </tr>\n",
       "  </thead>\n",
       "  <tbody>\n",
       "    <tr>\n",
       "      <th>0</th>\n",
       "      <td>2023-08-12</td>\n",
       "      <td>Paris SG</td>\n",
       "      <td>Lille</td>\n",
       "      <td>2</td>\n",
       "      <td>1</td>\n",
       "      <td>3</td>\n",
       "      <td>65</td>\n",
       "    </tr>\n",
       "    <tr>\n",
       "      <th>1</th>\n",
       "      <td>2023-08-13</td>\n",
       "      <td>Marseille</td>\n",
       "      <td>Monaco</td>\n",
       "      <td>1</td>\n",
       "      <td>2</td>\n",
       "      <td>5</td>\n",
       "      <td>48</td>\n",
       "    </tr>\n",
       "    <tr>\n",
       "      <th>2</th>\n",
       "      <td>2023-08-14</td>\n",
       "      <td>Lyon</td>\n",
       "      <td>Toulouse</td>\n",
       "      <td>3</td>\n",
       "      <td>0</td>\n",
       "      <td>2</td>\n",
       "      <td>55</td>\n",
       "    </tr>\n",
       "    <tr>\n",
       "      <th>3</th>\n",
       "      <td>2023-08-15</td>\n",
       "      <td>Nice</td>\n",
       "      <td>Reims</td>\n",
       "      <td>0</td>\n",
       "      <td>1</td>\n",
       "      <td>1</td>\n",
       "      <td>60</td>\n",
       "    </tr>\n",
       "    <tr>\n",
       "      <th>4</th>\n",
       "      <td>2023-08-16</td>\n",
       "      <td>Rennes</td>\n",
       "      <td>Strasbourg</td>\n",
       "      <td>2</td>\n",
       "      <td>2</td>\n",
       "      <td>4</td>\n",
       "      <td>52</td>\n",
       "    </tr>\n",
       "  </tbody>\n",
       "</table>\n",
       "</div>"
      ],
      "text/plain": [
       "         Date Équipe Domicile Équipe Extérieure  Buts Domicile  \\\n",
       "0  2023-08-12        Paris SG             Lille              2   \n",
       "1  2023-08-13       Marseille            Monaco              1   \n",
       "2  2023-08-14            Lyon          Toulouse              3   \n",
       "3  2023-08-15            Nice             Reims              0   \n",
       "4  2023-08-16          Rennes        Strasbourg              2   \n",
       "\n",
       "   Buts Extérieure  Cartons Jaunes  Possession (%)  \n",
       "0                1               3              65  \n",
       "1                2               5              48  \n",
       "2                0               2              55  \n",
       "3                1               1              60  \n",
       "4                2               4              52  "
      ]
     },
     "execution_count": 7,
     "metadata": {},
     "output_type": "execute_result"
    }
   ],
   "source": [
    "# chargement de la donnees \n",
    "df = pd.read_csv('/home/presso/Téléchargements/match_foot_base.csv')\n",
    "df.head()"
   ]
  },
  {
   "cell_type": "code",
   "execution_count": 16,
   "id": "ba8f7329-caae-4f1e-8155-b39283946fe3",
   "metadata": {},
   "outputs": [
    {
     "name": "stdout",
     "output_type": "stream",
     "text": [
      "<class 'pandas.core.frame.DataFrame'>\n",
      "RangeIndex: 5 entries, 0 to 4\n",
      "Data columns (total 8 columns):\n",
      " #   Column             Non-Null Count  Dtype \n",
      "---  ------             --------------  ----- \n",
      " 0   Date               5 non-null      object\n",
      " 1   Équipe Domicile    5 non-null      object\n",
      " 2   Équipe Extérieure  5 non-null      object\n",
      " 3   Buts Domicile      5 non-null      int64 \n",
      " 4   Buts Extérieure    5 non-null      int64 \n",
      " 5   Cartons Jaunes     5 non-null      int64 \n",
      " 6   Possession (%)     5 non-null      int64 \n",
      " 7   Total Buts         5 non-null      int64 \n",
      "dtypes: int64(5), object(3)\n",
      "memory usage: 448.0+ bytes\n"
     ]
    },
    {
     "data": {
      "text/html": [
       "<div>\n",
       "<style scoped>\n",
       "    .dataframe tbody tr th:only-of-type {\n",
       "        vertical-align: middle;\n",
       "    }\n",
       "\n",
       "    .dataframe tbody tr th {\n",
       "        vertical-align: top;\n",
       "    }\n",
       "\n",
       "    .dataframe thead th {\n",
       "        text-align: right;\n",
       "    }\n",
       "</style>\n",
       "<table border=\"1\" class=\"dataframe\">\n",
       "  <thead>\n",
       "    <tr style=\"text-align: right;\">\n",
       "      <th></th>\n",
       "      <th>Buts Domicile</th>\n",
       "      <th>Buts Extérieure</th>\n",
       "      <th>Cartons Jaunes</th>\n",
       "      <th>Possession (%)</th>\n",
       "      <th>Total Buts</th>\n",
       "    </tr>\n",
       "  </thead>\n",
       "  <tbody>\n",
       "    <tr>\n",
       "      <th>count</th>\n",
       "      <td>5.000000</td>\n",
       "      <td>5.00000</td>\n",
       "      <td>5.000000</td>\n",
       "      <td>5.000000</td>\n",
       "      <td>5.000000</td>\n",
       "    </tr>\n",
       "    <tr>\n",
       "      <th>mean</th>\n",
       "      <td>1.600000</td>\n",
       "      <td>1.20000</td>\n",
       "      <td>3.000000</td>\n",
       "      <td>56.000000</td>\n",
       "      <td>2.800000</td>\n",
       "    </tr>\n",
       "    <tr>\n",
       "      <th>std</th>\n",
       "      <td>1.140175</td>\n",
       "      <td>0.83666</td>\n",
       "      <td>1.581139</td>\n",
       "      <td>6.670832</td>\n",
       "      <td>1.095445</td>\n",
       "    </tr>\n",
       "    <tr>\n",
       "      <th>min</th>\n",
       "      <td>0.000000</td>\n",
       "      <td>0.00000</td>\n",
       "      <td>1.000000</td>\n",
       "      <td>48.000000</td>\n",
       "      <td>1.000000</td>\n",
       "    </tr>\n",
       "    <tr>\n",
       "      <th>25%</th>\n",
       "      <td>1.000000</td>\n",
       "      <td>1.00000</td>\n",
       "      <td>2.000000</td>\n",
       "      <td>52.000000</td>\n",
       "      <td>3.000000</td>\n",
       "    </tr>\n",
       "    <tr>\n",
       "      <th>50%</th>\n",
       "      <td>2.000000</td>\n",
       "      <td>1.00000</td>\n",
       "      <td>3.000000</td>\n",
       "      <td>55.000000</td>\n",
       "      <td>3.000000</td>\n",
       "    </tr>\n",
       "    <tr>\n",
       "      <th>75%</th>\n",
       "      <td>2.000000</td>\n",
       "      <td>2.00000</td>\n",
       "      <td>4.000000</td>\n",
       "      <td>60.000000</td>\n",
       "      <td>3.000000</td>\n",
       "    </tr>\n",
       "    <tr>\n",
       "      <th>max</th>\n",
       "      <td>3.000000</td>\n",
       "      <td>2.00000</td>\n",
       "      <td>5.000000</td>\n",
       "      <td>65.000000</td>\n",
       "      <td>4.000000</td>\n",
       "    </tr>\n",
       "  </tbody>\n",
       "</table>\n",
       "</div>"
      ],
      "text/plain": [
       "       Buts Domicile  Buts Extérieure  Cartons Jaunes  Possession (%)  \\\n",
       "count       5.000000          5.00000        5.000000        5.000000   \n",
       "mean        1.600000          1.20000        3.000000       56.000000   \n",
       "std         1.140175          0.83666        1.581139        6.670832   \n",
       "min         0.000000          0.00000        1.000000       48.000000   \n",
       "25%         1.000000          1.00000        2.000000       52.000000   \n",
       "50%         2.000000          1.00000        3.000000       55.000000   \n",
       "75%         2.000000          2.00000        4.000000       60.000000   \n",
       "max         3.000000          2.00000        5.000000       65.000000   \n",
       "\n",
       "       Total Buts  \n",
       "count    5.000000  \n",
       "mean     2.800000  \n",
       "std      1.095445  \n",
       "min      1.000000  \n",
       "25%      3.000000  \n",
       "50%      3.000000  \n",
       "75%      3.000000  \n",
       "max      4.000000  "
      ]
     },
     "execution_count": 16,
     "metadata": {},
     "output_type": "execute_result"
    }
   ],
   "source": [
    "# Vue d’ensemble des données \n",
    "# Info générale\n",
    "df.info()\n",
    "\n",
    "# Statistiques descriptives\n",
    "df.describe()"
   ]
  },
  {
   "cell_type": "code",
   "execution_count": 5,
   "id": "98eb6a90-522c-43fa-9ee6-147ab53ee7ec",
   "metadata": {},
   "outputs": [
    {
     "name": "stdout",
     "output_type": "stream",
     "text": [
      "Nombre de matchs : 5\n"
     ]
    }
   ],
   "source": [
    "\n",
    "# Dimensions\n",
    "print(\"Nombre de matchs :\", df.shape[0])"
   ]
  },
  {
   "cell_type": "markdown",
   "id": "a0f14ccb-5031-460d-bac3-d4c37c5f9d15",
   "metadata": {},
   "source": [
    "## Analyses statistiques"
   ]
  },
  {
   "cell_type": "code",
   "execution_count": 8,
   "id": "0d308e1c-ba2a-4788-b9a0-4189615c3630",
   "metadata": {},
   "outputs": [
    {
     "name": "stdout",
     "output_type": "stream",
     "text": [
      "Buts moyens à domicile : 1.6\n",
      "Buts moyens à l'extérieur : 1.2\n"
     ]
    }
   ],
   "source": [
    "# Moyenne de buts\n",
    "print(\"Buts moyens à domicile :\", df['Buts Domicile'].mean())\n",
    "print(\"Buts moyens à l'extérieur :\", df['Buts Extérieure'].mean())"
   ]
  },
  {
   "cell_type": "code",
   "execution_count": 10,
   "id": "f100b7b9-3097-4e01-bf44-e28d1b046a0c",
   "metadata": {},
   "outputs": [
    {
     "name": "stdout",
     "output_type": "stream",
     "text": [
      "Cartons jaunes moyens : 3.0\n"
     ]
    }
   ],
   "source": [
    "# Cartons\n",
    "print(\"Cartons jaunes moyens :\", df['Cartons Jaunes'].mean())\n"
   ]
  },
  {
   "cell_type": "code",
   "execution_count": 13,
   "id": "c7e4942f-7e88-4161-81da-3e43769f9f40",
   "metadata": {},
   "outputs": [],
   "source": [
    "#Nouvelle colonne\n",
    "df['Total Buts'] = df['Buts Domicile'] + df['Buts Extérieure']"
   ]
  },
  {
   "cell_type": "code",
   "execution_count": 15,
   "id": "abb0d4ef-3f68-43db-9ce3-1bce14d7607f",
   "metadata": {},
   "outputs": [
    {
     "data": {
      "text/html": [
       "<div>\n",
       "<style scoped>\n",
       "    .dataframe tbody tr th:only-of-type {\n",
       "        vertical-align: middle;\n",
       "    }\n",
       "\n",
       "    .dataframe tbody tr th {\n",
       "        vertical-align: top;\n",
       "    }\n",
       "\n",
       "    .dataframe thead th {\n",
       "        text-align: right;\n",
       "    }\n",
       "</style>\n",
       "<table border=\"1\" class=\"dataframe\">\n",
       "  <thead>\n",
       "    <tr style=\"text-align: right;\">\n",
       "      <th></th>\n",
       "      <th>Date</th>\n",
       "      <th>Équipe Domicile</th>\n",
       "      <th>Équipe Extérieure</th>\n",
       "      <th>Buts Domicile</th>\n",
       "      <th>Buts Extérieure</th>\n",
       "      <th>Cartons Jaunes</th>\n",
       "      <th>Possession (%)</th>\n",
       "      <th>Total Buts</th>\n",
       "    </tr>\n",
       "  </thead>\n",
       "  <tbody>\n",
       "    <tr>\n",
       "      <th>4</th>\n",
       "      <td>2023-08-16</td>\n",
       "      <td>Rennes</td>\n",
       "      <td>Strasbourg</td>\n",
       "      <td>2</td>\n",
       "      <td>2</td>\n",
       "      <td>4</td>\n",
       "      <td>52</td>\n",
       "      <td>4</td>\n",
       "    </tr>\n",
       "  </tbody>\n",
       "</table>\n",
       "</div>"
      ],
      "text/plain": [
       "         Date Équipe Domicile Équipe Extérieure  Buts Domicile  \\\n",
       "4  2023-08-16          Rennes        Strasbourg              2   \n",
       "\n",
       "   Buts Extérieure  Cartons Jaunes  Possession (%)  Total Buts  \n",
       "4                2               4              52           4  "
      ]
     },
     "execution_count": 15,
     "metadata": {},
     "output_type": "execute_result"
    }
   ],
   "source": [
    "# Match avec le plus de buts\n",
    "match_max_buts = df[df['Total Buts'] == df['Total Buts'].max()]\n",
    "match_max_buts\n"
   ]
  },
  {
   "cell_type": "markdown",
   "id": "c5b7d340-9c08-4ce9-9ffa-d2f591582242",
   "metadata": {},
   "source": [
    "### Visualisations"
   ]
  },
  {
   "cell_type": "code",
   "execution_count": 12,
   "id": "f5c5ce85-3c95-4108-8095-58b7a8560b3f",
   "metadata": {},
   "outputs": [
    {
     "data": {
      "image/png": "[encoded data removed]",
      "text/plain": [
       "<Figure size 640x480 with 1 Axes>"
      ]
     },
     "metadata": {},
     "output_type": "display_data"
    }
   ],
   "source": [
    "# Graphiques\n",
    "df[['Buts Domicile', 'Buts Extérieure']].plot(kind='bar', title=\"Buts par match\")\n",
    "plt.xlabel(\"Match\")\n",
    "plt.ylabel(\"Nombre de buts\")\n",
    "plt.show()\n"
   ]
  },
  {
   "cell_type": "code",
   "execution_count": 17,
   "id": "48fa351d-0170-4d57-99d8-6acece5e8777",
   "metadata": {},
   "outputs": [
    {
     "data": {
      "image/png": "[encoded data removed]",
      "text/plain": [
       "<Figure size 640x480 with 1 Axes>"
      ]
     },
     "metadata": {},
     "output_type": "display_data"
    }
   ],
   "source": [
    "# Total buts en courbe\n",
    "df['Total Buts'].plot(kind='line', marker='o', title=\"Évolution des buts par match\")\n",
    "plt.ylabel(\"Total de buts\")\n",
    "plt.grid(True)\n",
    "plt.show()"
   ]
  },
  {
   "cell_type": "markdown",
   "id": "ddb10990-a587-48a2-8698-b1dbb4eb9a4e",
   "metadata": {},
   "source": [
    "##  Conclusion"
   ]
  },
  {
   "cell_type": "code",
   "execution_count": null,
   "id": "bd612eb5-7a93-4e43-8c6b-01885a505c25",
   "metadata": {},
   "outputs": [],
   "source": [
    " ## 🧠 Conclusion\n",
    "\n",
    "Cette analyse rapide met en lumière les statistiques suivantes :\n",
    "- En moyenne, les équipes marquent environ 2,4 buts par match.\n",
    "- Le match le plus spectaculaire a vu 5 buts.\n",
    "- La possession moyenne tourne autour de 56%, indiquant un bon équilibre entre les équipes.\n",
    "- Ce type d'analyse est utile pour la prévision de résultats ou la stratégie d'équipe.\n",
    "\n",
    "➡️ Prochaines étapes : enrichir l'analyse avec d'autres variables comme les fautes, les passes ou les tirs cadrés \n",
    "et peut etre  ajouter des lignes pour pouvoir faire un modèle de machine learning .\n"
   ]
  }
 ],
 "metadata": {
  "kernelspec": {
   "display_name": "Python 3 (ipykernel)",
   "language": "python",
   "name": "python3"
  },
  "language_info": {
   "codemirror_mode": {
    "name": "ipython",
    "version": 3
   },
   "file_extension": ".py",
   "mimetype": "text/x-python",
   "name": "python",
   "nbconvert_exporter": "python",
   "pygments_lexer": "ipython3",
   "version": "3.10.12"
  }
 },
 "nbformat": 4,
 "nbformat_minor": 5
}
